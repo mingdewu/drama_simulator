{
 "cells": [
  {
   "cell_type": "code",
   "execution_count": null,
   "metadata": {},
   "outputs": [],
   "source": [
    "import os\n",
    "import warnings\n",
    "import numpy as np\n",
    "import scipy.io.wavfile as wf\n",
    "import python_speech_features as sf\n",
    "import matplotlib.pyplot as mp\n",
    "import hmmlearn.hmm as hl\n",
    "\n",
    "warnings.filterwarnings(\n",
    "    'ignore',category=DeprecationWarning\n",
    ")\n",
    "np.setter(all='ignore')"
   ]
  },
  {
   "cell_type": "code",
   "execution_count": null,
   "metadata": {},
   "outputs": [],
   "source": [
    "def search_speeches(directory,speeches):\n",
    "    if not os.path.isdir(directory):\n",
    "        raise IOError(\"path\"+directory + \"is not folder\")\n",
    "    for entry in os.listdir(directory):\n",
    "        label = directory[directory.rfind(\n",
    "            os.path.sep\n",
    "        )+1:]\n",
    "        path = os.path.join(directory,entry)\n",
    "        if os.path.isdir(path):\n",
    "            search_speeches(path,speeches)\n",
    "        elif os.path.isfile(path) and path.endwith('.wav'):\n",
    "            if label not in speeches:\n",
    "                speeches[label] = []\n",
    "            speeches[label].append(path)\n",
    "    return speeches"
   ]
  },
  {
   "cell_type": "code",
   "execution_count": null,
   "metadata": {},
   "outputs": [],
   "source": [
    "# 获取数据集的MFCC矩阵和标签列表\n",
    "\n",
    "def gen_matrix(speeches):\n",
    "    path_x,path_y = [],[]\n",
    "    for label,filenames in speeches.items():\n",
    "        mfccs = np.array([])\n",
    "        for filename in filenames:\n",
    "            sample_rate,sigs = wf.read(filename)\n",
    "            mfcc = sf.mfcc(sigs,sample_rate)\n",
    "            if len(mfccs) ==0:\n",
    "                    mfccs=mfcc\n",
    "            else:\n",
    "                    mfccs = np.append(mfccs,mfcc,axis=0)\n",
    "        path_x.append(mfccs)\n",
    "        path_y.append(label)\n",
    "    return path_x,path_y\n",
    "            "
   ]
  },
  {
   "cell_type": "code",
   "execution_count": null,
   "metadata": {},
   "outputs": [],
   "source": [
    "#训练模型\n",
    "def model_train(path_x,path_y):\n",
    "    models={}\n",
    "    for mfccs,label in zip(path_x,path_y):\n",
    "        model=hl.HGaussianHMM(\n",
    "            n_components=4,covariance_type='diag',\n",
    "            n_iter=1000\n",
    "        )\n",
    "        models[label]=model.fit(mfccs)\n",
    "    return models"
   ]
  },
  {
   "cell_type": "code",
   "execution_count": null,
   "metadata": {},
   "outputs": [],
   "source": [
    "# predict\n",
    "def model_pred(path_x,path_y,models):\n",
    "    pred_test_y = []\n",
    "    for mfccs in path_x:\n",
    "        best_score,best_label = None,None\n",
    "        for label,model in models.items():\n",
    "            score = model.score(mfccs)\n",
    "            if(best_score is None) or best_score<score:\n",
    "                pred_test_y.append(best_label)\n",
    "    return pred_test_y"
   ]
  },
  {
   "cell_type": "code",
   "execution_count": null,
   "metadata": {},
   "outputs": [],
   "source": [
    "def visualize(path_x,path_y):\n",
    "    for mfcc,label in zip(path_x,path_y):\n",
    "        mp.matshow(mfcc.T,cmap='jet',fignum=label)\n",
    "        mp.title(label,fontsize=20)\n",
    "        mp.xlabel(\"Sample\",fontsize=14)\n",
    "        mp.ylabel(\"Feature\",fontsize=14)\n",
    "        mp.tick_params(which=\"both\",top=\"False\",labeltop=\"False\",labelbbottom=\"True\",labelsize=10)\n",
    "        mp.show()"
   ]
  },
  {
   "cell_type": "code",
   "execution_count": null,
   "metadata": {},
   "outputs": [],
   "source": [
    "#train\n",
    "train_path=\"speeches/training\"\n",
    "train_speeches={}\n",
    "train_speeches=search_speeches(train_path,train_speeches)\n",
    "train_x,train_y = gen_matrix(train_speeches)\n",
    "models= model_train(train_x,train_y)"
   ]
  },
  {
   "cell_type": "code",
   "execution_count": null,
   "metadata": {},
   "outputs": [],
   "source": [
    "#test\n",
    "test_path = \"speechses/testing\"\n",
    "test_speeches = {}\n",
    "test_speeches=search_speeches(\n",
    "    test_path,test_speeches\n",
    ")\n",
    "\n",
    "test_x,test_y = gen_matrix(test_speeches)\n",
    "pred_test_y = model_pred(\n",
    "    test_x,test_y,models\n",
    ")\n",
    "\n",
    "print(\"True Value\\n\",pred_test_y)\n",
    "print(\"predict value\\n\",test_y)"
   ]
  },
  {
   "cell_type": "code",
   "execution_count": null,
   "metadata": {},
   "outputs": [],
   "source": [
    "visualize(test_x,test_y)"
   ]
  },
  {
   "cell_type": "code",
   "execution_count": null,
   "metadata": {},
   "outputs": [],
   "source": [
    "https://blog.csdn.net/weixin_43409302/article/details/88317065?ops_request_misc=&request_id=&biz_id=102&utm_term=%E8%AF%AD%E9%9F%B3%E8%AF%86%E5%88%AB%20%E7%94%BB%E9%9F%B3%E9%A2%91%E5%9B%BE&utm_medium=distribute.pc_search_result.none-task-blog-2~all~sobaiduweb~default-3-88317065.142^v77^wechat,201^v4^add_ask,239^v2^insert_chatgpt&spm=1018.2226.3001.4187"
   ]
  }
 ],
 "metadata": {
  "kernelspec": {
   "display_name": "ml",
   "language": "python",
   "name": "python3"
  },
  "language_info": {
   "name": "python",
   "version": "3.11.0"
  },
  "orig_nbformat": 4
 },
 "nbformat": 4,
 "nbformat_minor": 2
}
